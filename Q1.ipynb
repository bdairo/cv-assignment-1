{
 "cells": [
  {
   "cell_type": "code",
   "execution_count": 1,
   "id": "91368b54-297e-4c57-8006-c907de3d8b75",
   "metadata": {},
   "outputs": [],
   "source": [
    "import numpy as np\n",
    "import cv2\n",
    "import glob"
   ]
  },
  {
   "cell_type": "code",
   "execution_count": 2,
   "id": "a095599e-891b-43d4-bbbe-6dfd83997109",
   "metadata": {},
   "outputs": [],
   "source": [
    "def calibrate_camera(images_path, pattern_size, square_size):\n",
    "    criteria = (cv2.TERM_CRITERIA_EPS + cv2.TERM_CRITERIA_MAX_ITER, 30, 0.001)\n",
    "    # Prepare object points\n",
    "    objp = np.zeros((pattern_size[0] * pattern_size[1], 3), np.float32)\n",
    "    objp[:, :2] = np.mgrid[0:pattern_size[0], 0:pattern_size[1]].T.reshape(-1, 2)\n",
    "\n",
    "    objp = objp * square_size\n",
    "\n",
    "    # Arrays to store object points and image points from all the images.\n",
    "    obj_points = []  # 3D points in real world space\n",
    "    img_points = []  # 2D points in image plane.\n",
    "\n",
    "    # Read images\n",
    "    images = glob.glob(images_path)\n",
    "    img_size = (640, 480)\n",
    "    for image in images:\n",
    "        img = cv2.imread(image)\n",
    "        gray = cv2.cvtColor(img, cv2.COLOR_BGR2GRAY)\n",
    "        img_size = gray.shape[::-1]\n",
    "\n",
    "        # Find the chessboard corners\n",
    "        ret, corners = cv2.findChessboardCorners(gray, pattern_size, None)\n",
    "\n",
    "        # If found, add object points, image points (after refining them)\n",
    "        if ret:\n",
    "            obj_points.append(objp)\n",
    "            corners2 = cv2.cornerSubPix(gray, corners, (11, 11), (-1, -1), criteria)\n",
    "            img_points.append(corners2)\n",
    "\n",
    "            # Draw and display the corners\n",
    "            cv2.drawChessboardCorners(img, pattern_size, corners2, ret)\n",
    "            cv2.imshow('img', img)\n",
    "            cv2.waitKey(500)\n",
    "\n",
    "    cv2.destroyAllWindows()\n",
    "\n",
    "    ret, mtx, dist, r_vecs, t_vecs = cv2.calibrateCamera(obj_points, img_points, img_size, None, None)\n",
    "\n",
    "    return mtx"
   ]
  },
  {
   "cell_type": "code",
   "execution_count": 4,
   "id": "63d7f4d5-e949-4e09-b85f-82efe5d2bb11",
   "metadata": {},
   "outputs": [
    {
     "name": "stdout",
     "output_type": "stream",
     "text": [
      "Intrinsic Matrix:\n",
      "[[442.5930392    0.         294.09394662]\n",
      " [  0.         441.27421154 242.95287843]\n",
      " [  0.           0.           1.        ]]\n"
     ]
    }
   ],
   "source": [
    "path = './calibration_images/*.png'\n",
    "chessboard_size = (8, 6)\n",
    "square_size_mm = 25\n",
    "\n",
    "matrix = calibrate_camera(path, chessboard_size, square_size_mm)\n",
    "\n",
    "print(\"Intrinsic Matrix:\")\n",
    "print(matrix)"
   ]
  },
  {
   "cell_type": "code",
   "execution_count": null,
   "id": "24615033-3786-4689-bafa-2bd09d4a1a62",
   "metadata": {},
   "outputs": [],
   "source": []
  }
 ],
 "metadata": {
  "kernelspec": {
   "display_name": "Python 3 (ipykernel)",
   "language": "python",
   "name": "python3"
  },
  "language_info": {
   "codemirror_mode": {
    "name": "ipython",
    "version": 3
   },
   "file_extension": ".py",
   "mimetype": "text/x-python",
   "name": "python",
   "nbconvert_exporter": "python",
   "pygments_lexer": "ipython3",
   "version": "3.11.7"
  }
 },
 "nbformat": 4,
 "nbformat_minor": 5
}
